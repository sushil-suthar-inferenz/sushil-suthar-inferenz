{
 "cells": [
  {
   "cell_type": "code",
   "execution_count": 10,
   "id": "2a0ab205",
   "metadata": {},
   "outputs": [
    {
     "name": "stdout",
     "output_type": "stream",
     "text": [
      "Requirement already satisfied: html5lib in c:\\users\\sushil.suthar\\.conda\\envs\\nlp\\lib\\site-packages (1.1)\n",
      "Requirement already satisfied: six>=1.9 in c:\\users\\sushil.suthar\\.conda\\envs\\nlp\\lib\\site-packages (from html5lib) (1.16.0)\n",
      "Requirement already satisfied: webencodings in c:\\users\\sushil.suthar\\.conda\\envs\\nlp\\lib\\site-packages (from html5lib) (0.5.1)\n"
     ]
    }
   ],
   "source": [
    "!pip install requests html5lib bs4"
   ]
  },
  {
   "cell_type": "code",
   "execution_count": 1,
   "id": "113404c4",
   "metadata": {},
   "outputs": [],
   "source": [
    "import requests\n",
    "from bs4 import BeautifulSoup\n",
    "from tqdm import tqdm"
   ]
  },
  {
   "cell_type": "markdown",
   "id": "d26bb396-871c-4ea7-89ce-7f8ab3019b99",
   "metadata": {},
   "source": [
    "# Stitch Fix Blogs"
   ]
  },
  {
   "cell_type": "code",
   "execution_count": 103,
   "id": "0eabdd05",
   "metadata": {
    "collapsed": true,
    "jupyter": {
     "outputs_hidden": true
    }
   },
   "outputs": [
    {
     "name": "stderr",
     "output_type": "stream",
     "text": [
      " 89%|███████████████████████████████████████████████████████████████████████████████████████████████████████████████████               | 54/61 [03:15<00:26,  3.75s/it]"
     ]
    },
    {
     "name": "stdout",
     "output_type": "stream",
     "text": [
      "54\n"
     ]
    },
    {
     "name": "stderr",
     "output_type": "stream",
     "text": [
      "\r",
      " 90%|█████████████████████████████████████████████████████████████████████████████████████████████████████████████████████▏            | 55/61 [03:19<00:22,  3.69s/it]"
     ]
    },
    {
     "name": "stdout",
     "output_type": "stream",
     "text": [
      "55\n"
     ]
    },
    {
     "name": "stderr",
     "output_type": "stream",
     "text": [
      "100%|██████████████████████████████████████████████████████████████████████████████████████████████████████████████████████████████████| 61/61 [03:45<00:00,  3.70s/it]\n"
     ]
    }
   ],
   "source": [
    "notScraped = []\n",
    "with open(\"stitchfixCorpus.txt\",\"w\", encoding=\"utf-8\") as fp:\n",
    "    for j in tqdm(range(0,61)):\n",
    "        URL = \"https://www.stitchfix.com/women/blog/fashion-tips/page/\"+str(j)+\"/\"\n",
    "        r = requests.get(URL)\n",
    "        soup = BeautifulSoup(r.content, 'html.parser')\n",
    "        for i in range(8):\n",
    "            try:\n",
    "                innerLInk = soup.find_all(\"div\",attrs={\"id\":\"posts_container\"})[0].find_all(\"div\",attrs={\"class\":\"Entry-thumbnail\"})[i].a[\"href\"]\n",
    "                r = requests.get(innerLInk)\n",
    "            except:\n",
    "                print(j)\n",
    "            line = \"**\"*20\n",
    "            soup2 = BeautifulSoup(r.content, 'html.parser')\n",
    "            try:\n",
    "                text = line+\"\\n\"+str(soup2.find_all(\"article\")[0].find(\"header\",attrs = {\"class\":\"entry-header\"}).text).replace(\"\\n\\n\", \"\\n\")+str(soup2.find_all(\"article\")[0].find(\"div\",attrs = {\"data-swiftype-name\":\"body\"}).text).replace(\"\\n\\n\", \"\\n\")\n",
    "                fp.writelines(text)\n",
    "            except:\n",
    "                notScraped.append(innerLInk)"
   ]
  },
  {
   "cell_type": "markdown",
   "id": "199cc1fc",
   "metadata": {},
   "source": [
    "# Atlantic-pacific"
   ]
  },
  {
   "cell_type": "code",
   "execution_count": 151,
   "id": "48321a86",
   "metadata": {},
   "outputs": [
    {
     "name": "stderr",
     "output_type": "stream",
     "text": [
      "100%|████████████████████████████████████████████████████████████████████████████████████████████████████████████████████████████████| 219/219 [34:36<00:00,  9.48s/it]\n"
     ]
    }
   ],
   "source": [
    "notfindBlog=[]\n",
    "with open(\"atlanticPacific.txt\",'w',encoding=\"utf-8\") as fp:\n",
    "    for page in tqdm(range(219)):\n",
    "        URL = \"https://www.the-atlantic-pacific.com/posts/page/\"+str(page)+\"/\"\n",
    "        r = requests.get(URL)\n",
    "        soup = BeautifulSoup(r.content, 'html.parser')\n",
    "        allBlogs = soup.find_all(\"article\",attrs={\"class\":\"preview preview--post\"})\n",
    "        for singleBlog in allBlogs:\n",
    "            link = singleBlog.find('a')['href']\n",
    "            r = requests.get(link)\n",
    "            soup2 = BeautifulSoup(r.content, 'html.parser')\n",
    "            blogs = soup2.find_all(\"div\",attrs={\"class\":\"post__content post__content--single\"})\n",
    "            if len(blogs)>0:\n",
    "                for pTag in blogs[0].find_all(\"p\"):\n",
    "                    fp.write(pTag.text)\n",
    "                fp.write(\"\\n\\n\")\n",
    "            else:\n",
    "                notfindBlog.append(link)"
   ]
  },
  {
   "cell_type": "markdown",
   "id": "3676cda3",
   "metadata": {},
   "source": [
    "# Indian Wedding Saree"
   ]
  },
  {
   "cell_type": "code",
   "execution_count": 35,
   "id": "1d4b783c",
   "metadata": {},
   "outputs": [
    {
     "name": "stderr",
     "output_type": "stream",
     "text": [
      "100%|████████████████████████████████████████████████████████████████████████████████████████████████████████████████████████████████| 86/86 [06:02<00:00,  4.21s/it]\n"
     ]
    }
   ],
   "source": [
    "with open(\"IndianWeddingSaree.txt\",'w',encoding=\"utf-8\") as fp:\n",
    "    for page in tqdm(range(1,87)):\n",
    "        URL = \"https://blog.indianweddingsaree.com/page/\"+str(page)+\"/\"\n",
    "        r = requests.get(URL)\n",
    "        soup = BeautifulSoup(r.content, 'html.parser')\n",
    "        allBlogs = soup.find_all(\"div\",attrs={\"class\":\"blog-list\"})\n",
    "#         print(len(allBlogs))\n",
    "        for blog in allBlogs:\n",
    "            link = blog.find_all(\"h2\",attrs={\"class\":\"post-title\"})[0].a[\"href\"]\n",
    "            r = requests.get(link)\n",
    "            soup2 = BeautifulSoup(r.content, 'html.parser')\n",
    "            content = soup2.find_all(\"div\",attrs={\"class\":\"post-body\"})[0].text\n",
    "            text = \"**\"*20\n",
    "            fp.write(\"\\n\\n\"+text+\"\\n\\n\"+content)"
   ]
  },
  {
   "cell_type": "markdown",
   "id": "16b56577",
   "metadata": {},
   "source": [
    "# The Unstitched"
   ]
  },
  {
   "cell_type": "code",
   "execution_count": 74,
   "id": "0e1670dc",
   "metadata": {},
   "outputs": [
    {
     "name": "stderr",
     "output_type": "stream",
     "text": [
      "100%|████████████████████████████████████████████████████████████████████████████████████████████████████████████████████████████████| 13/13 [00:50<00:00,  3.86s/it]\n"
     ]
    }
   ],
   "source": [
    "count=0\n",
    "with open(\"TheUnstitched.txt\",'w',encoding=\"utf-8\") as fp:\n",
    "    for page in tqdm(range(1,14)):\n",
    "        URL = f\"http://www.theunstitchd.com/women/category/fashion/page/{page}/\".format(page)\n",
    "        r = requests.get(URL)\n",
    "        soup = BeautifulSoup(r.content, 'html.parser')\n",
    "        allBlogs = soup.find_all(\"li\",attrs={\"class\":\"g1-collection-item g1-collection-item-1of3\"})\n",
    "        for blog in allBlogs:\n",
    "            try:\n",
    "                link = blog.find_all(\"a\")[0]['href']\n",
    "                r = requests.get(link)\n",
    "                soup2 = BeautifulSoup(r.content, 'html.parser')\n",
    "                blog = soup2.find_all(\"article\",attrs={\"class\":\"entry-tpl-classic\"})\n",
    "                text = \"**\"*20\n",
    "                fp.write(\"\\n\\n\"+text+blog[0].header.h1.text)\n",
    "                fp.write(blog[0].find_all('div',attrs={\"class\":\"g1-content-narrow g1-typography-xl entry-content\"})[0].text+\"\\n\\n\")\n",
    "            except:\n",
    "                count+=1"
   ]
  },
  {
   "cell_type": "markdown",
   "id": "785e8aed",
   "metadata": {},
   "source": [
    "# Nihal Fashion"
   ]
  },
  {
   "cell_type": "code",
   "execution_count": 127,
   "id": "09e2ed8b",
   "metadata": {},
   "outputs": [
    {
     "name": "stderr",
     "output_type": "stream",
     "text": [
      "100%|████████████████████████████████████████████████████████████████████████████████████████████████████████████████████████████████| 10/10 [00:21<00:00,  2.12s/it]\n"
     ]
    }
   ],
   "source": [
    "with open(\"NihalFashion.txt\",'w',encoding=\"utf-8\") as fp:\n",
    "    for page in tqdm(range(1,11)):\n",
    "        URL = f\"https://www.nihalfashions.com/blog/inspiration/womens-ethnic-wear/page/{page}/\".format(page)\n",
    "        r = requests.get(URL)\n",
    "        soup = BeautifulSoup(r.content, 'html.parser')\n",
    "        allBlogs = soup.find_all(\"article\")\n",
    "        for blog in allBlogs:\n",
    "            link = blog.find(\"div\",attrs={\"class\":\"post_content\"}).h2.a['href']\n",
    "            r = requests.get(link)\n",
    "            soup2 = BeautifulSoup(r.content, 'html.parser')\n",
    "            blog = soup2.find_all(\"article\")\n",
    "            text = \"**\"*20\n",
    "            fp.write(text+\"\\n\\n\"+blog[0].find(\"div\",attrs={\"class\":\"post_image\"}).h1.text+\"\\n\")\n",
    "            headers = blog[0].find(\"div\",attrs={\"class\":\"post_content\"}).find_all(\"h2\")\n",
    "            content = blog[0].find(\"div\",attrs={\"class\":\"post_content\"}).text\n",
    "            for re in headers:\n",
    "                content = content.replace(re.text,\"\\n\"+re.text+\":\\n\")\n",
    "            fp.write(content+\"\\n\\n\")"
   ]
  },
  {
   "cell_type": "markdown",
   "id": "1a726b15-9391-4c25-ad8b-4d1852a2dcd3",
   "metadata": {},
   "source": [
    "# Fashionopolis"
   ]
  },
  {
   "cell_type": "code",
   "execution_count": 65,
   "id": "85f3e7b3-e0d2-4e40-9154-a84e243ba9cb",
   "metadata": {},
   "outputs": [
    {
     "name": "stderr",
     "output_type": "stream",
     "text": [
      "100%|██████████████████████████████████████████████████████████████████████████████████████████████████████████████████████████████████| 59/59 [05:12<00:00,  5.29s/it]\n"
     ]
    }
   ],
   "source": [
    "with open(\"Fashionopolis.txt\",'w',encoding=\"utf-8\") as fp:\n",
    "    URL = \"https://www.fashionopolis.in/p/how-to.html\"\n",
    "    r = requests.get(URL)\n",
    "    soup = BeautifulSoup(r.content, 'html.parser')\n",
    "    content = soup.find(\"div\",attrs={\"dir\":\"ltr\"})\n",
    "    pageLink = [a['href'] for a in content.find_all('a')[:-6]]\n",
    "    for i in tqdm(pageLink):\n",
    "        r = requests.get(i)\n",
    "        soup2 = BeautifulSoup(r.content, 'html.parser')\n",
    "        header = \"\".join(soup2.find(\"h3\",attrs={\"class\":\"post-title entry-title\"}).text.split(\"\\n\")).strip()\n",
    "        content = soup2.find(\"div\",attrs={\"class\":\"post-body entry-content\"})\n",
    "        corpus = \"\\n\".join([i for i in content.text.split(\"\\n\") if len(i)>3][:-2])\n",
    "        text = \"**\"*20\n",
    "        fp.write(text+\"\\n\\n\"+header+\"\\n\"+corpus+\"\\n\\n\")"
   ]
  },
  {
   "cell_type": "markdown",
   "id": "1916682e-9ca7-4359-aa92-042dda87169b",
   "metadata": {},
   "source": [
    "# Tashiara indian"
   ]
  },
  {
   "cell_type": "code",
   "execution_count": 115,
   "id": "534eda33-10dc-4682-ad82-2fb4fbf172ca",
   "metadata": {},
   "outputs": [
    {
     "name": "stderr",
     "output_type": "stream",
     "text": [
      "100%|██████████████████████████████████████████████████████████████████████████████████████████████████████████████████████████████████| 19/19 [03:07<00:00,  9.88s/it]\n"
     ]
    }
   ],
   "source": [
    "# get all page links\n",
    "URL = \"https://www.tashiara.com/search/label/Style?&max-results=7\"\n",
    "with open(\"Tashiara_indian.txt\",'w',encoding=\"utf-8\") as fp:\n",
    "    for i in tqdm(range(19)):\n",
    "        r = requests.get(URL)\n",
    "        soup = BeautifulSoup(r.content, 'html.parser')\n",
    "        allBlogs = soup.find_all(\"article\")\n",
    "        for singleURL in allBlogs:\n",
    "            link = singleURL.h2.a['href']\n",
    "            r = requests.get(link)\n",
    "            soup2 = BeautifulSoup(r.content, 'html.parser')\n",
    "            header = soup2.find_all(\"h1\",attrs={\"class\":\"post-title entry-title\"})\n",
    "            fp.write(\"\\n\\n%header%\"+header[0].text+\"\\n%content%\")\n",
    "            # content = \"%cotent%\"\n",
    "            corpus = soup2.find_all(\"div\",attrs={\"class\":\"post-body entry-content\"})\n",
    "            for text in corpus[0].find_all(\"div\"):\n",
    "                if(len(text.text))>3:\n",
    "                    fp.write(text.text)\n",
    "        \n",
    "        # blogsPage.append(URL)\n",
    "        # r = requests.get(URL)\n",
    "        # soup = BeautifulSoup(r.content, 'html.parser')\n",
    "        aTag = soup.find_all(\"a\",attrs={\"class\":\"blog-pager-older-link\"})\n",
    "        if len(aTag)>1:URL = aTag[0]['href']"
   ]
  },
  {
   "cell_type": "markdown",
   "id": "410672f9-d053-43f7-9ddd-8e17610bedf3",
   "metadata": {},
   "source": [
    "# Prime Women"
   ]
  },
  {
   "cell_type": "code",
   "execution_count": 2,
   "id": "92173957-0eee-4769-a966-c5e719dccf3d",
   "metadata": {},
   "outputs": [
    {
     "name": "stdout",
     "output_type": "stream",
     "text": [
      "https://primewomen.com/beauty-and-fashion/style/barbies-shoes/\n",
      "https://primewomen.com/beauty-and-fashion/style/trendy-sunglasses-for-every-budget/\n",
      "https://primewomen.com/entertainment/books-and-tv/barbie-inspired-barbicore-fashion/\n",
      "https://primewomen.com/beauty-and-fashion/style/how-to-be-stylish/\n",
      "https://primewomen.com/beauty-and-fashion/style/nordstrom-anniversary-sale/\n",
      "https://primewomen.com/beauty-and-fashion/style/pull-on-shorts/\n",
      "https://primewomen.com/beauty-and-fashion/style/best-bras-for-sagging-breasts/\n",
      "https://primewomen.com/beauty-and-fashion/style/sun-hats-are-your-new-spf/\n",
      "https://primewomen.com/beauty-and-fashion/style/nordstrom-anniversary-sale-handbags/\n"
     ]
    }
   ],
   "source": [
    "URL = \"https://primewomen.com/category/beauty-and-fashion/style/page/2/\"\n",
    "r = requests.get(URL)\n",
    "soup = BeautifulSoup(r.content, 'html.parser')\n",
    "article = soup.find_all(\"article\")\n",
    "for blog in article:\n",
    "    link = blog.a[\"href\"]\n",
    "    print(link)"
   ]
  },
  {
   "cell_type": "code",
   "execution_count": 3,
   "id": "317ce03d-a7a6-4195-a39f-0befcd4eb41e",
   "metadata": {},
   "outputs": [
    {
     "data": {
      "text/plain": [
       "19"
      ]
     },
     "execution_count": 3,
     "metadata": {},
     "output_type": "execute_result"
    }
   ],
   "source": [
    "link = \"https://primewomen.com/beauty-and-fashion/style/how-to-be-stylish/\"\n",
    "link = \"https://primewomen.com/beauty-and-fashion/style/nordstrom-anniversary-sale/\"\n",
    "r = requests.get(link)\n",
    "soup2 = BeautifulSoup(r.content, 'html.parser')\n",
    "content = soup2.find_all(\"div\",attrs={\"class\":\"elementor-widget-container\"})\n",
    "len(content)"
   ]
  },
  {
   "cell_type": "code",
   "execution_count": 4,
   "id": "4e690d0b-0d86-4d19-9739-799a86dbacbd",
   "metadata": {},
   "outputs": [
    {
     "name": "stdout",
     "output_type": "stream",
     "text": [
      "\n",
      " \n"
     ]
    }
   ],
   "source": [
    "print(content[7].text)"
   ]
  },
  {
   "cell_type": "markdown",
   "id": "8d479790-9eb3-4296-aab2-7af5c182b152",
   "metadata": {},
   "source": [
    "# Anaya"
   ]
  },
  {
   "cell_type": "code",
   "execution_count": 30,
   "id": "399bffaa-69d0-4702-8b67-5005fcb1c07a",
   "metadata": {},
   "outputs": [
    {
     "name": "stderr",
     "output_type": "stream",
     "text": [
      "100%|██████████████████████████████████████████████████████████████████████████████████| 10/10 [00:24<00:00,  2.42s/it]\n",
      "100%|██████████████████████████████████████████████████████████████████████████████████| 10/10 [00:21<00:00,  2.16s/it]\n",
      "100%|████████████████████████████████████████████████████████████████████████████████████| 6/6 [00:09<00:00,  1.57s/it]\n"
     ]
    }
   ],
   "source": [
    "URLs = [\"https://anayadesignerstudio.com/blog/?utm_source=feedspot\",\n",
    "       \"https://anayadesignerstudio.com/blog/page/2/?utm_source=feedspot\",\n",
    "       \"https://anayadesignerstudio.com/blog/page/3/?utm_source=feedspot\"]\n",
    "with open(\"anaya.txt\",'w',encoding=\"utf-8\") as fp:\n",
    "    for url in URLs:\n",
    "        r = requests.get(url)\n",
    "        soup = BeautifulSoup(r.content, 'html.parser')\n",
    "        article = soup.find_all(\"article\")\n",
    "        for singleArticle in tqdm(article):\n",
    "            link = singleArticle.find_all('h4',attrs={\"class\":\"entry-title\"})[0].a['href']\n",
    "            r = requests.get(link)\n",
    "            soup2 = BeautifulSoup(r.content, 'html.parser')\n",
    "            header = soup2.find_all('h1',attrs={\"class\":\"entry-title\"})[0].text\n",
    "            fp.write(\"\\n\\n%header%\"+header+\"\\n%content%\")\n",
    "            content = soup2.find_all('div',attrs={\"class\":\"entry-content\"})\n",
    "            fp.write(\"\\n\".join([text for text in content[0].text.split(\"\\n\") if len(text)>3]))"
   ]
  },
  {
   "cell_type": "markdown",
   "id": "6da96c8c-579f-4767-af42-8a0da505b2af",
   "metadata": {},
   "source": [
    "# Sixty+ME"
   ]
  },
  {
   "cell_type": "code",
   "execution_count": 2,
   "id": "b7f51913-9450-4a32-a148-ebcc9d9dac89",
   "metadata": {},
   "outputs": [
    {
     "name": "stderr",
     "output_type": "stream",
     "text": [
      "100%|█████████████████████████████████████████████████████████████████████████████████████████████████████████████████████████████████████████████████████████████████████████████| 40/40 [14:32<00:00, 21.80s/it]\n"
     ]
    }
   ],
   "source": [
    "with open(\"Sixty_plus_me.txt\",'w',encoding=\"utf-8\") as fp:\n",
    "    for page in tqdm(range(1,41)):\n",
    "        URL = \"https://sixtyandme.com/tag/fashion-for-women-over-60/page/{}/\".format(page)\n",
    "        r = requests.get(URL)\n",
    "        soup = BeautifulSoup(r.content, 'html.parser')\n",
    "        content = soup.find_all(\"div\",attrs={\"class\":\"blog-article-content\"})\n",
    "        for singleBlog in content:\n",
    "            link = singleBlog.a['href']\n",
    "            r = requests.get(link)\n",
    "            soup2 = BeautifulSoup(r.content, 'html.parser')\n",
    "            header = soup2.find_all(\"h1\",attrs={\"class\":\"title\"})[0].text\n",
    "            corpus = soup2.find_all(\"div\",attrs={\"class\":\"details-content-wrap\"})\n",
    "            text = \"**\"*20\n",
    "            fp.write(\"\\n\\n\"+text+\"\\n\"+header)\n",
    "            fp.write(corpus[0].text+\"\\n\")"
   ]
  },
  {
   "cell_type": "markdown",
   "id": "61ad373e-ff07-4b54-886c-b147483bd2d7",
   "metadata": {},
   "source": [
    "# Corporette"
   ]
  },
  {
   "cell_type": "code",
   "execution_count": 4,
   "id": "23eebf10-725a-4ae3-97d3-20b8177d3cb2",
   "metadata": {},
   "outputs": [
    {
     "name": "stderr",
     "output_type": "stream",
     "text": [
      "100%|█████████████████████████████████████████████████████████████████████████████████████████████████████████████████████████████████████████████████████████████████████████| 206/206 [1:19:05<00:00, 23.04s/it]\n"
     ]
    }
   ],
   "source": [
    "errorPages = []\n",
    "with open(\"Corporette.txt\",'w',encoding=\"utf-8\") as fp:\n",
    "    for page in tqdm(range(206)):\n",
    "        URL = \"https://corporette.com/category/fashion/page/{}/\".format(page)\n",
    "        r = requests.get(URL)\n",
    "        soup = BeautifulSoup(r.content, 'html.parser')\n",
    "        content = soup.find_all(\"h2\",attrs={\"class\":\"entry-title\"})\n",
    "        for singleBlog in content:\n",
    "            try:\n",
    "                link = singleBlog.a['href']\n",
    "                r = requests.get(link)\n",
    "                soup2 = BeautifulSoup(r.content, 'html.parser')\n",
    "                header = soup2.find_all(\"h1\",attrs={\"class\":\"entry-title\"})[0].text\n",
    "                corpus = soup2.find_all(\"div\",attrs={\"class\":\"entry-content\"})\n",
    "                text = \"**\"*20\n",
    "                fp.write(\"\\n\\n\"+text+\"\\n\"+header+\"\\n\")\n",
    "                fp.write(corpus[0].text+\"\\n\")\n",
    "            except:\n",
    "                errorPages.append(link)"
   ]
  },
  {
   "cell_type": "code",
   "execution_count": 8,
   "id": "1a6dff36-0673-4593-b0fc-b3f8ce055fba",
   "metadata": {},
   "outputs": [
    {
     "data": {
      "text/plain": [
       "['https://corporette.com/plus-size-maternity-clothes-for-the-office/',\n",
       " 'https://corporette.com/where-recycle-donate-sell-your-work-clothes/',\n",
       " 'https://corporette.com/holiday-weekend-open-thread-and-deal-alert-nordstrom-winter-sale-is-on/',\n",
       " 'https://corporette.com/what-online-only-beauty-brands-do-you-love/',\n",
       " 'https://corporette.com/life-lesson-21/',\n",
       " 'https://corporette.com/suit-of-the-week-29/']"
      ]
     },
     "execution_count": 8,
     "metadata": {},
     "output_type": "execute_result"
    }
   ],
   "source": [
    "errorPages"
   ]
  },
  {
   "cell_type": "markdown",
   "id": "d0e27a5c-dc1a-43c0-a466-6955ebda5d2a",
   "metadata": {},
   "source": [
    "# Fashion Bombay"
   ]
  },
  {
   "cell_type": "code",
   "execution_count": 5,
   "id": "d11059bf-037d-4381-a631-094ca8f2759a",
   "metadata": {},
   "outputs": [
    {
     "name": "stderr",
     "output_type": "stream",
     "text": [
      "100%|█████████████████████████████████████████████████████████████████████████████████████████████████████████████████████████████████████████████████████████████████████████████| 10/10 [00:19<00:00,  1.97s/it]\n",
      "100%|█████████████████████████████████████████████████████████████████████████████████████████████████████████████████████████████████████████████████████████████████████████████| 10/10 [00:18<00:00,  1.87s/it]\n",
      "100%|█████████████████████████████████████████████████████████████████████████████████████████████████████████████████████████████████████████████████████████████████████████████| 10/10 [00:19<00:00,  1.94s/it]\n",
      "100%|███████████████████████████████████████████████████████████████████████████████████████████████████████████████████████████████████████████████████████████████████████████████| 2/2 [00:04<00:00,  2.22s/it]\n"
     ]
    }
   ],
   "source": [
    "with open(\"FashionBombay.txt\",'w',encoding=\"utf-8\") as fp:\n",
    "    for page in range(1,5):\n",
    "        URL = \"https://www.fashion-bombay.com/category/fashion/page/{}/\".format(page)\n",
    "        r = requests.get(URL)\n",
    "        soup = BeautifulSoup(r.content, 'html.parser')\n",
    "        mainDiv = soup.find_all(\"div\",attrs={\"class\":\"td-ss-main-content\"})\n",
    "        content = mainDiv[0].find_all(\"div\",attrs={\"class\":\"td-module-thumb\"})\n",
    "        for singlePage in tqdm(content):\n",
    "            link = singlePage.a['href']\n",
    "            r = requests.get(link)\n",
    "            soup2 = BeautifulSoup(r.content, 'html.parser')\n",
    "            header = soup2.find_all(\"h1\",attrs={\"class\":\"entry-title\"})[0].text\n",
    "            corpus = soup2.find_all(\"div\",attrs={\"class\":\"td-post-content tagdiv-type\"})\n",
    "            text = \"**\"*20\n",
    "            fp.write(\"\\n\\n\"+text+\"\\n\"+header+\"\\n\")\n",
    "            fp.write(corpus[0].text+\"\\n\")"
   ]
  },
  {
   "cell_type": "code",
   "execution_count": null,
   "id": "00a13184-cc95-48e3-9d48-676a68935cb4",
   "metadata": {},
   "outputs": [],
   "source": []
  }
 ],
 "metadata": {
  "kernelspec": {
   "display_name": "Python 3 (ipykernel)",
   "language": "python",
   "name": "python3"
  },
  "language_info": {
   "codemirror_mode": {
    "name": "ipython",
    "version": 3
   },
   "file_extension": ".py",
   "mimetype": "text/x-python",
   "name": "python",
   "nbconvert_exporter": "python",
   "pygments_lexer": "ipython3",
   "version": "3.10.11"
  }
 },
 "nbformat": 4,
 "nbformat_minor": 5
}
